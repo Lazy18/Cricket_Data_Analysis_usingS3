{
 "cells": [
  {
   "cell_type": "code",
   "execution_count": 0,
   "metadata": {
    "application/vnd.databricks.v1+cell": {
     "cellMetadata": {
      "byteLimit": 2048000,
      "rowLimit": 10000
     },
     "inputWidgets": {},
     "nuid": "93d11a6e-2935-4aac-8515-d2e65151253d",
     "showTitle": false,
     "title": ""
    }
   },
   "outputs": [],
   "source": [
    "from pyspark.sql.types import StructType, StructField, IntegerType, BooleanType, DataType, DecimalType, StringType, DateType\n",
    "from pyspark.sql.functions import *\n",
    "from pyspark.sql.window import Window"
   ]
  },
  {
   "cell_type": "code",
   "execution_count": 0,
   "metadata": {
    "application/vnd.databricks.v1+cell": {
     "cellMetadata": {
      "byteLimit": 2048000,
      "rowLimit": 10000
     },
     "inputWidgets": {},
     "nuid": "9908c1fe-c159-4a6e-852a-abf38a88c71a",
     "showTitle": false,
     "title": ""
    }
   },
   "outputs": [],
   "source": [
    "from pyspark.sql import SparkSession \n",
    "\n",
    "#create session \n",
    "spark = SparkSession.builder.appName(\"IPL Data Analysis\").getOrCreate()"
   ]
  },
  {
   "cell_type": "code",
   "execution_count": 0,
   "metadata": {
    "application/vnd.databricks.v1+cell": {
     "cellMetadata": {
      "byteLimit": 2048000,
      "rowLimit": 10000
     },
     "inputWidgets": {},
     "nuid": "2dee1fd9-0f8b-4fb2-a727-e7937a166330",
     "showTitle": false,
     "title": ""
    }
   },
   "outputs": [],
   "source": [
    "\n",
    "ball_by_ball_schema = StructType([\n",
    "    StructField(\"match_id\", IntegerType(), nullable=False),\n",
    "    StructField(\"over_id\", IntegerType(), nullable=False),\n",
    "    StructField(\"ball_id\", IntegerType(), nullable=False),\n",
    "    StructField(\"innings_no\", IntegerType(), nullable=False),\n",
    "    StructField(\"team_batting\", StringType(), nullable=False),\n",
    "    StructField(\"team_bowling\", StringType(), nullable=False),\n",
    "    StructField(\"striker_batting_position\", IntegerType(), nullable=True),\n",
    "    StructField(\"extra_type\", StringType(), nullable=True),\n",
    "    StructField(\"runs_scored\", IntegerType(), nullable=True),\n",
    "    StructField(\"extra_runs\", IntegerType(), nullable=True),\n",
    "    StructField(\"wides\", IntegerType(), nullable=True),\n",
    "    StructField(\"legbyes\", IntegerType(), nullable=True),\n",
    "    StructField(\"byes\", IntegerType(), nullable=True),\n",
    "    StructField(\"noballs\", IntegerType(), nullable=True),\n",
    "    StructField(\"penalty\", IntegerType(), nullable=True),\n",
    "    StructField(\"bowler_extras\", IntegerType(), nullable=True),\n",
    "    StructField(\"out_type\", StringType(), nullable=True),\n",
    "    StructField(\"caught\", BooleanType(), nullable=True),\n",
    "    StructField(\"bowled\", BooleanType(), nullable=True),\n",
    "    StructField(\"run_out\", BooleanType(), nullable=True),\n",
    "    StructField(\"lbw\", BooleanType(), nullable=True),\n",
    "    StructField(\"retired_hurt\", BooleanType(), nullable=True),\n",
    "    StructField(\"stumped\", BooleanType(), nullable=True),\n",
    "    StructField(\"caught_and_bowled\", BooleanType(), nullable=True),\n",
    "    StructField(\"hit_wicket\", BooleanType(), nullable=True),\n",
    "    StructField(\"obstructingfeild\", BooleanType(), nullable=True),\n",
    "    StructField(\"bowler_wicket\", BooleanType(), nullable=True),\n",
    "    StructField(\"match_date\", DateType(), nullable=True),\n",
    "    StructField(\"season\", IntegerType(), nullable=True),\n",
    "    StructField(\"striker\", IntegerType(), nullable=True),\n",
    "    StructField(\"non_striker\", IntegerType(), nullable=True),\n",
    "    StructField(\"bowler\", IntegerType(), nullable=True),\n",
    "    StructField(\"player_out\", IntegerType(), nullable=True),\n",
    "    StructField(\"fielders\", IntegerType(), nullable=True),\n",
    "    StructField(\"striker_match_sk\", IntegerType(), nullable=True),\n",
    "    StructField(\"strikersk\", IntegerType(), nullable=True),\n",
    "    StructField(\"nonstriker_match_sk\", IntegerType(), nullable=True),\n",
    "    StructField(\"nonstriker_sk\", IntegerType(), nullable=True),\n",
    "    StructField(\"fielder_match_sk\", IntegerType(), nullable=True),\n",
    "    StructField(\"fielder_sk\", IntegerType(), nullable=True),\n",
    "    StructField(\"bowler_match_sk\", IntegerType(), nullable=True),\n",
    "    StructField(\"bowler_sk\", IntegerType(), nullable=True),\n",
    "    StructField(\"playerout_match_sk\", IntegerType(), nullable=True),\n",
    "    StructField(\"battingteam_sk\", IntegerType(), nullable=True),\n",
    "    StructField(\"bowlingteam_sk\", IntegerType(), nullable=True),\n",
    "    StructField(\"keeper_catch\", BooleanType(), nullable=True),\n",
    "    StructField(\"player_out_sk\", IntegerType(), nullable=True),\n",
    "    StructField(\"matchdatesk\", DateType(), nullable=True)\n",
    "])\n",
    "\n",
    "ball_by_ball_df = spark.read.format(\"csv\").option(\"header\",\"true\").load(\"s3://ipl-data-analysis-using-apachespark/Ball_By_Ball.csv\")\n"
   ]
  },
  {
   "cell_type": "code",
   "execution_count": 0,
   "metadata": {
    "application/vnd.databricks.v1+cell": {
     "cellMetadata": {
      "byteLimit": 2048000,
      "rowLimit": 10000
     },
     "inputWidgets": {},
     "nuid": "498920c6-0617-4e64-8906-e48fcd7f6a89",
     "showTitle": false,
     "title": ""
    }
   },
   "outputs": [],
   "source": [
    "match_schema = StructType([\n",
    "    StructField(\"match_sk\", IntegerType(), nullable=False),\n",
    "    StructField(\"match_id\", IntegerType(), nullable=False),\n",
    "    StructField(\"team1\", StringType(), nullable=False),\n",
    "    StructField(\"team2\", StringType(), nullable=False),\n",
    "    StructField(\"match_date\", DateType(), nullable=True),\n",
    "    StructField(\"season_year\", IntegerType(), nullable=True),\n",
    "    StructField(\"venue_name\", StringType(), nullable=True),\n",
    "    StructField(\"city_name\", StringType(), nullable=True),\n",
    "    StructField(\"country_name\", StringType(), nullable=True),\n",
    "    StructField(\"toss_winner\", StringType(), nullable=True),\n",
    "    StructField(\"match_winner\", StringType(), nullable=True),\n",
    "    StructField(\"toss_name\", StringType(), nullable=True),\n",
    "    StructField(\"win_type\", StringType(), nullable=True),\n",
    "    StructField(\"outcome_type\", StringType(), nullable=True),\n",
    "    StructField(\"manofmach\", StringType(), nullable=True),\n",
    "    StructField(\"win_margin\", IntegerType(), nullable=True),\n",
    "    StructField(\"country_id\", IntegerType(), nullable=True)\n",
    "])\n",
    "\n",
    "match_df = spark.read.format('csv').option('header','true').load('s3://ipl-data-analysis-using-apachespark/Match.csv')"
   ]
  },
  {
   "cell_type": "code",
   "execution_count": 0,
   "metadata": {
    "application/vnd.databricks.v1+cell": {
     "cellMetadata": {
      "byteLimit": 2048000,
      "rowLimit": 10000
     },
     "inputWidgets": {},
     "nuid": "9b2d8f07-eaa6-4f36-b882-272fae967c3e",
     "showTitle": false,
     "title": ""
    }
   },
   "outputs": [],
   "source": [
    "player_schema = StructType([\n",
    "    StructField(\"player_sk\", IntegerType(), nullable=False),\n",
    "    StructField(\"player_id\", IntegerType(), nullable=False),\n",
    "    StructField(\"player_name\", StringType(), nullable=False),\n",
    "    StructField(\"dob\", DateType(), nullable=True),\n",
    "    StructField(\"batting_hand\", StringType(), nullable=True),\n",
    "    StructField(\"bowling_skill\", StringType(), nullable=True),\n",
    "    StructField(\"country_name\", StringType(), nullable=True)\n",
    "])\n",
    "\n",
    "player_df = spark.read.format('csv').option('header','true').load('s3://ipl-data-analysis-using-apachespark/Player.csv')"
   ]
  },
  {
   "cell_type": "code",
   "execution_count": 0,
   "metadata": {
    "application/vnd.databricks.v1+cell": {
     "cellMetadata": {
      "byteLimit": 2048000,
      "rowLimit": 10000
     },
     "inputWidgets": {},
     "nuid": "4a31c7f5-8d92-453b-b192-df38579dce00",
     "showTitle": false,
     "title": ""
    }
   },
   "outputs": [],
   "source": [
    "player_match_schema = StructType([\n",
    "    StructField(\"player_match_sk\", IntegerType(), nullable=False),\n",
    "    StructField(\"playermatch_key\", DecimalType(20, 10), nullable=True),  # Adjust precision and scale as needed\n",
    "    StructField(\"match_id\", IntegerType(), nullable=False),\n",
    "    StructField(\"player_id\", IntegerType(), nullable=False),\n",
    "    StructField(\"player_name\", StringType(), nullable=True),\n",
    "    StructField(\"dob\", DateType(), nullable=True),\n",
    "    StructField(\"batting_hand\", StringType(), nullable=True),\n",
    "    StructField(\"bowling_skill\", StringType(), nullable=True),\n",
    "    StructField(\"country_name\", StringType(), nullable=True),\n",
    "    StructField(\"role_desc\", StringType(), nullable=True),\n",
    "    StructField(\"player_team\", StringType(), nullable=True),\n",
    "    StructField(\"opposit_team\", StringType(), nullable=True),\n",
    "    StructField(\"season_year\", IntegerType(), nullable=True),\n",
    "    StructField(\"is_manofthematch\", BooleanType(), nullable=True),\n",
    "    StructField(\"age_as_on_match\", IntegerType(), nullable=True),\n",
    "    StructField(\"isplayers_team_won\", BooleanType(), nullable=True),\n",
    "    StructField(\"batting_status\", StringType(), nullable=True),\n",
    "    StructField(\"bowling_status\", StringType(), nullable=True),\n",
    "    StructField(\"player_captain\", StringType(), nullable=True),\n",
    "    StructField(\"opposit_captain\", StringType(), nullable=True),\n",
    "    StructField(\"player_keeper\", StringType(), nullable=True),\n",
    "    StructField(\"opposit_keeper\", StringType(), nullable=True)\n",
    "])\n",
    "\n",
    "player_match_df = spark.read.format('csv').option('header','true').load('s3://ipl-data-analysis-using-apachespark/Player_match.csv')"
   ]
  },
  {
   "cell_type": "code",
   "execution_count": 0,
   "metadata": {
    "application/vnd.databricks.v1+cell": {
     "cellMetadata": {
      "byteLimit": 2048000,
      "rowLimit": 10000
     },
     "inputWidgets": {},
     "nuid": "382661e8-a871-4a27-92ae-06f044006462",
     "showTitle": false,
     "title": ""
    }
   },
   "outputs": [],
   "source": [
    "team_schema = StructType([\n",
    "    StructField(\"team_sk\", IntegerType(), nullable=False),\n",
    "    StructField(\"team_id\", IntegerType(), nullable=False),\n",
    "    StructField(\"team_name\", StringType(), nullable=False)\n",
    "])\n",
    "\n",
    "team_df = spark.read.format('csv').option('header','true').load('s3://ipl-data-analysis-using-apachespark/Team.csv')"
   ]
  },
  {
   "cell_type": "code",
   "execution_count": 0,
   "metadata": {
    "application/vnd.databricks.v1+cell": {
     "cellMetadata": {
      "byteLimit": 2048000,
      "rowLimit": 10000
     },
     "inputWidgets": {},
     "nuid": "214f9fbb-7aca-4684-a2f9-4b1a7ff20a81",
     "showTitle": false,
     "title": ""
    }
   },
   "outputs": [],
   "source": [
    "# FILTER TO INCLUDE ONLY VALID DELEVIRIES (EXCLUDING EXTRAS LIKE WIDE BALLS AND NO BALLS )\n",
    "\n",
    "ball_by_ball_df = ball_by_ball_df.filter((col(\"wides\")==0) & (col(\"noballs\")== 0))"
   ]
  },
  {
   "cell_type": "code",
   "execution_count": 0,
   "metadata": {
    "application/vnd.databricks.v1+cell": {
     "cellMetadata": {
      "byteLimit": 2048000,
      "rowLimit": 10000
     },
     "inputWidgets": {},
     "nuid": "f82109d3-b08c-4eb3-b1bd-89b2c1d14cdc",
     "showTitle": false,
     "title": ""
    }
   },
   "outputs": [],
   "source": [
    "#AGGREGATION : CALCULATE TOTAL AND AVG RUNS SCORED IN EACH MATCH AND INNINGS\n",
    "\n",
    "total_and_avg_sum = ball_by_ball_df.groupBy(\"match_id\", \"innings_no\").agg(\n",
    "    sum(\"runs_scored\").alias(\"total_runs\"),\n",
    "    avg(\"runs_scored\").alias(\"average_runs\")\n",
    ")"
   ]
  },
  {
   "cell_type": "code",
   "execution_count": 0,
   "metadata": {
    "application/vnd.databricks.v1+cell": {
     "cellMetadata": {
      "byteLimit": 2048000,
      "rowLimit": 10000
     },
     "inputWidgets": {},
     "nuid": "e44bd142-ba00-4edd-8461-220bca66b15b",
     "showTitle": false,
     "title": ""
    }
   },
   "outputs": [],
   "source": [
    "# CALCULATE RUNNING TOTAL OF RUNS IN EACH MATCH FOR EACH OVER\n",
    "\n",
    "\n",
    "# Define the window specification\n",
    "windowSpec = Window.partitionBy(\"match_id\", \"innings_no\").orderBy(\"over_id\")\n",
    "\n",
    "ball_by_ball_df = ball_by_ball_df.withColumn(\n",
    "    \"running_total_runs\", \n",
    "    sum(\"runs_scored\").over(windowSpec)\n",
    ")"
   ]
  },
  {
   "cell_type": "code",
   "execution_count": 0,
   "metadata": {
    "application/vnd.databricks.v1+cell": {
     "cellMetadata": {
      "byteLimit": 2048000,
      "rowLimit": 10000
     },
     "inputWidgets": {},
     "nuid": "a3dc4f81-ffb7-434e-a9f9-270c1b053974",
     "showTitle": false,
     "title": ""
    }
   },
   "outputs": [],
   "source": [
    "# CONDITIONAL COLUMN : FLAG FOR HIGH IMPACT BALLS ( EITHER A WICKET OR MORE THAN 6 RUNS INCLUDING EXTRAS )\n",
    "\n",
    "ball_by_ball_df = ball_by_ball_df.withColumn(\n",
    "    \"high_impact\",\n",
    "    when(\n",
    "    (col(\"runs_scored\") + col(\"extra_runs\") > 6) | (col(\"bowler_wicket\") == True),\n",
    "    True\n",
    ").otherwise(False)\n",
    ")"
   ]
  },
  {
   "cell_type": "code",
   "execution_count": 0,
   "metadata": {
    "application/vnd.databricks.v1+cell": {
     "cellMetadata": {
      "byteLimit": 2048000,
      "rowLimit": 10000
     },
     "inputWidgets": {},
     "nuid": "caf8284e-70a7-48bf-a720-ef7f2fb9ff76",
     "showTitle": false,
     "title": ""
    }
   },
   "outputs": [],
   "source": [
    "# EXTRACTING YEAR, MONTH AND DAY FROM THR MATCH DATA FOR DETAILED TIME BASED ANALYSIS\n",
    "\n",
    "match_df = match_df.withColumn(\"year\", year(\"match_date\"))\n",
    "match_df = match_df.withColumn(\"month\", month(\"match_date\"))\n",
    "match_df = match_df.withColumn(\"day\", dayofmonth(\"match_date\"))"
   ]
  },
  {
   "cell_type": "code",
   "execution_count": 0,
   "metadata": {
    "application/vnd.databricks.v1+cell": {
     "cellMetadata": {
      "byteLimit": 2048000,
      "rowLimit": 10000
     },
     "inputWidgets": {},
     "nuid": "a8e185cf-01fa-4ef4-9f20-312c8ce479cc",
     "showTitle": false,
     "title": ""
    }
   },
   "outputs": [],
   "source": [
    "# HIGH MARGIN WIN : CATEGORIZING WITH MARGINS INTO 'HIGH', 'MEDIUM' AND 'LOW'\n",
    "\n",
    "match_df =match_df.withColumn(\n",
    "    \"win_margin_category\",\n",
    "    when(col(\"win_margin\") >= 100, \"High\")\n",
    "    .when((col(\"win_margin\") >= 50) & (col(\"win_margin\") < 100), \"Medium\")\n",
    "    .otherwise(\"Low\")\n",
    ")"
   ]
  },
  {
   "cell_type": "code",
   "execution_count": 0,
   "metadata": {
    "application/vnd.databricks.v1+cell": {
     "cellMetadata": {
      "byteLimit": 2048000,
      "rowLimit": 10000
     },
     "inputWidgets": {},
     "nuid": "fd3910b1-4b36-4263-9dfd-6f4f880f0379",
     "showTitle": false,
     "title": ""
    }
   },
   "outputs": [],
   "source": [
    "# ANALYZE THE IMPACT OF TOSS ON THE MATCH\n",
    "match_df = match_df.withColumn(\n",
    "    \"toss_match_winner\",\n",
    "    when(col(\"toss_winner\") == col(\"match_winner\"), \"Yes\").otherwise(\"No\")\n",
    ")"
   ]
  },
  {
   "cell_type": "code",
   "execution_count": 0,
   "metadata": {
    "application/vnd.databricks.v1+cell": {
     "cellMetadata": {
      "byteLimit": 2048000,
      "rowLimit": 10000
     },
     "inputWidgets": {},
     "nuid": "ad4fb779-fc55-4b6d-ac2b-4c0d745e96f4",
     "showTitle": false,
     "title": ""
    }
   },
   "outputs": [],
   "source": [
    "# DYNAMIC COLUMN TO CAL YEARS SINCE DEBUT \n",
    "\n",
    "player_match_df = player_match_df.withColumn(\n",
    "    \"year_since_debut\",\n",
    "    (year(current_date()) - col(\"season_year\"))\n",
    ")"
   ]
  },
  {
   "cell_type": "code",
   "execution_count": 0,
   "metadata": {
    "application/vnd.databricks.v1+cell": {
     "cellMetadata": {
      "byteLimit": 2048000,
      "rowLimit": 10000
     },
     "inputWidgets": {},
     "nuid": "00002ca4-80a3-49d8-8518-49fb9e868ac3",
     "showTitle": false,
     "title": ""
    }
   },
   "outputs": [],
   "source": [
    "#PLAYER PERFORMANCE BASED ON THEIR MAN OF THE MATCH STATUS\n",
    "\n",
    "player_awards_df = match_df.filter(col(\"manofmach\").isNotNull())\\\n",
    "        .groupBy(\"manofmach\")\\\n",
    "        .count()\\\n",
    "        .withColumnRenamed(\"count\",\"awards_won\")\n",
    "\n",
    "sorted_player_awards_df = player_awards_df.orderBy(col(\"awards_won\").desc())"
   ]
  },
  {
   "cell_type": "markdown",
   "metadata": {
    "application/vnd.databricks.v1+cell": {
     "cellMetadata": {},
     "inputWidgets": {},
     "nuid": "3bf0c11f-3775-4387-9c16-886506131c24",
     "showTitle": false,
     "title": ""
    }
   },
   "source": [
    "For Sql Queries"
   ]
  },
  {
   "cell_type": "code",
   "execution_count": 0,
   "metadata": {
    "application/vnd.databricks.v1+cell": {
     "cellMetadata": {
      "byteLimit": 2048000,
      "rowLimit": 10000
     },
     "inputWidgets": {},
     "nuid": "f64086c0-3c6e-497c-be94-e11d6b80d64b",
     "showTitle": false,
     "title": ""
    }
   },
   "outputs": [],
   "source": [
    "ball_by_ball_df.createOrReplaceTempView(\"ball_by_ball\")\n",
    "match_df.createOrReplaceTempView(\"match\")\n",
    "player_df.createOrReplaceTempView(\"player\")\n",
    "player_match_df.createOrReplaceTempView(\"player_match\")\n",
    "team_df.createOrReplaceTempView(\"team\")\n",
    "player_awards_df.createOrReplaceTempView(\"Awards\")"
   ]
  },
  {
   "cell_type": "code",
   "execution_count": 0,
   "metadata": {
    "application/vnd.databricks.v1+cell": {
     "cellMetadata": {
      "byteLimit": 2048000,
      "rowLimit": 10000
     },
     "inputWidgets": {},
     "nuid": "56d2c6a3-3c51-49b1-8967-e82f5c8cf99c",
     "showTitle": false,
     "title": ""
    }
   },
   "outputs": [
    {
     "output_type": "stream",
     "name": "stdout",
     "output_type": "stream",
     "text": [
      "+----+-------+\n|Runs|Wickets|\n+----+-------+\n| 286|    339|\n+----+-------+\n\n"
     ]
    }
   ],
   "source": [
    "# WINTYPE BASED ON THE RUNS AND WICKETS\n",
    "\n",
    "wintype = spark.sql(\"\"\"\n",
    "SELECT\n",
    "    SUM(CASE WHEN win_type = 'runs' THEN 1 ELSE 0 END) AS Runs,\n",
    "    SUM(CASE WHEN win_type = 'wickets' THEN 1 ELSE 0 END) AS Wickets\n",
    "FROM match\n",
    "\"\"\")\n",
    "\n",
    "wintype.show(5)"
   ]
  },
  {
   "cell_type": "code",
   "execution_count": 0,
   "metadata": {
    "application/vnd.databricks.v1+cell": {
     "cellMetadata": {
      "byteLimit": 2048000,
      "rowLimit": 10000
     },
     "inputWidgets": {},
     "nuid": "569bcf60-aeee-461e-9b18-524c2c7e0db4",
     "showTitle": false,
     "title": ""
    }
   },
   "outputs": [
    {
     "output_type": "stream",
     "name": "stdout",
     "output_type": "stream",
     "text": [
      "+--------------------+----------+\n|        match_winner|total_wins|\n+--------------------+----------+\n|      Mumbai Indians|        91|\n| Chennai Super Kings|        79|\n|Kolkata Knight Ri...|        77|\n|Royal Challengers...|        73|\n|     Kings XI Punjab|        70|\n|    Rajasthan Royals|        63|\n|    Delhi Daredevils|        62|\n| Sunrisers Hyderabad|        42|\n|     Deccan Chargers|        29|\n|Rising Pune Super...|        15|\n|       Gujarat Lions|        13|\n|       Pune Warriors|        12|\n|Kochi Tuskers Kerala|         6|\n|                NULL|         3|\n|                tied|         1|\n|           abandoned|         1|\n+--------------------+----------+\n\n"
     ]
    }
   ],
   "source": [
    "# BEST TEAMS ACCORDING TO THE WINS \n",
    "\n",
    "most_wins = spark.sql(\"\"\"\n",
    "SELECT \n",
    "    match_winner, \n",
    "    COUNT(*) AS total_wins \n",
    "FROM match \n",
    "GROUP BY match_winner \n",
    "ORDER BY total_wins DESC \n",
    "\"\"\")\n",
    "most_wins.show()"
   ]
  },
  {
   "cell_type": "code",
   "execution_count": 0,
   "metadata": {
    "application/vnd.databricks.v1+cell": {
     "cellMetadata": {
      "byteLimit": 2048000,
      "rowLimit": 10000
     },
     "inputWidgets": {},
     "nuid": "64d01fa7-50da-4296-a0ea-6b085dbe1d39",
     "showTitle": false,
     "title": ""
    }
   },
   "outputs": [
    {
     "output_type": "stream",
     "name": "stdout",
     "output_type": "stream",
     "text": [
      "+---------------+-------------+\n|    player_name|total_wickets|\n+---------------+-------------+\n|     SL Malinga|          144|\n|       A Mishra|          128|\n|      PP Chawla|          121|\n|Harbhajan Singh|          116|\n|       DJ Bravo|          102|\n|        B Kumar|           97|\n|         Z Khan|           94|\n|       R Ashwin|           93|\n|      SP Narine|           88|\n|        A Nehra|           88|\n+---------------+-------------+\nonly showing top 10 rows\n\n"
     ]
    }
   ],
   "source": [
    "# BEST BOWLER ACCORDING TO THE WICKETS TAKEN \n",
    "\n",
    "best_bowler = spark.sql(\"\"\"\n",
    "SELECT \n",
    "    p.player_name, \n",
    "    COUNT(bbb.out_type) AS total_wickets\n",
    "FROM \n",
    "    ball_by_ball bbb\n",
    "JOIN \n",
    "    player p \n",
    "ON \n",
    "    bbb.bowler = p.player_id\n",
    "WHERE \n",
    "    bbb.out_type IN ('caught', 'bowled', 'lbw', 'stumped', 'caught and bowled', 'hit wicket')\n",
    "GROUP BY \n",
    "    p.player_name\n",
    "ORDER BY \n",
    "    total_wickets DESC\n",
    "\"\"\")\n",
    "best_bowler.show(10)"
   ]
  },
  {
   "cell_type": "code",
   "execution_count": 0,
   "metadata": {
    "application/vnd.databricks.v1+cell": {
     "cellMetadata": {
      "byteLimit": 2048000,
      "rowLimit": 10000
     },
     "inputWidgets": {},
     "nuid": "6f517d50-106f-431b-99c8-b102efbeb29c",
     "showTitle": false,
     "title": ""
    }
   },
   "outputs": [
    {
     "output_type": "stream",
     "name": "stdout",
     "output_type": "stream",
     "text": [
      "+--------------+----------+\n|   player_name|total_runs|\n+--------------+----------+\n|      SK Raina|    4526.0|\n|       V Kohli|    4402.0|\n|     RG Sharma|    4184.0|\n|     G Gambhir|    4112.0|\n|     DA Warner|    3985.0|\n|    RV Uthappa|    3767.0|\n|      CH Gayle|    3606.0|\n|      MS Dhoni|    3553.0|\n|      S Dhawan|    3541.0|\n|AB de Villiers|    3460.0|\n+--------------+----------+\nonly showing top 10 rows\n\n"
     ]
    }
   ],
   "source": [
    "# BEST BATSMAN ACCORDING TO THE RUNS SCORED \n",
    "\n",
    "best_batsman = spark.sql(\"\"\"\n",
    "SELECT \n",
    "    p.player_name, \n",
    "    SUM(bbb.runs_scored) AS total_runs\n",
    "FROM \n",
    "    ball_by_ball bbb\n",
    "JOIN \n",
    "    player p \n",
    "ON \n",
    "    bbb.striker = p.player_id\n",
    "GROUP BY \n",
    "    p.player_name\n",
    "ORDER BY \n",
    "    total_runs DESC\n",
    "\"\"\")\n",
    "best_batsman.show(10)"
   ]
  },
  {
   "cell_type": "code",
   "execution_count": 0,
   "metadata": {
    "application/vnd.databricks.v1+cell": {
     "cellMetadata": {
      "byteLimit": 2048000,
      "rowLimit": 10000
     },
     "inputWidgets": {},
     "nuid": "06615984-e55c-4972-8b5d-399c6f453cb0",
     "showTitle": false,
     "title": ""
    }
   },
   "outputs": [
    {
     "output_type": "stream",
     "name": "stdout",
     "output_type": "stream",
     "text": [
      "+-----------+----------+\n|player_name|total_runs|\n+-----------+----------+\n|   CH Gayle|     171.0|\n+-----------+----------+\n\n"
     ]
    }
   ],
   "source": [
    "# HIGHEST RUN SCORER IN SINGLE MATCH\n",
    "\n",
    "highest_single_match_runs = spark.sql(\"\"\"\n",
    "SELECT \n",
    "    p.player_name,\n",
    "    SUM(bbb.runs_scored) AS total_runs\n",
    "FROM \n",
    "    ball_by_ball bbb\n",
    "JOIN \n",
    "    player p \n",
    "ON \n",
    "    bbb.striker = p.player_id\n",
    "JOIN \n",
    "    match m \n",
    "ON \n",
    "    bbb.match_id = m.match_id\n",
    "GROUP BY \n",
    "    p.player_name, m.match_id\n",
    "ORDER BY \n",
    "    total_runs DESC\n",
    "LIMIT 1\n",
    "\"\"\")\n",
    "highest_single_match_runs.show(20)"
   ]
  },
  {
   "cell_type": "code",
   "execution_count": 0,
   "metadata": {
    "application/vnd.databricks.v1+cell": {
     "cellMetadata": {
      "byteLimit": 2048000,
      "rowLimit": 10000
     },
     "inputWidgets": {},
     "nuid": "5953c9e1-26be-4e76-9f84-01ffabef1f84",
     "showTitle": false,
     "title": ""
    }
   },
   "outputs": [
    {
     "output_type": "stream",
     "name": "stdout",
     "output_type": "stream",
     "text": [
      "+---------------+-------------+\n|    player_name|total_wickets|\n+---------------+-------------+\n|  Sohail Tanvir|            6|\n|        A Zampa|            6|\n|      RA Jadeja|            5|\n|Harbhajan Singh|            5|\n| AD Mascarenhas|            5|\n|     JD Unadkat|            5|\n|       A Mishra|            5|\n|       MM Patel|            5|\n|     JD Unadkat|            5|\n|     SL Malinga|            5|\n|        B Kumar|            5|\n|    JP Faulkner|            5|\n|    JP Faulkner|            5|\n|         AJ Tye|            5|\n|       R Bhatia|            4|\n|    Imran Tahir|            4|\n|       R Ashwin|            4|\n|        B Kumar|            4|\n|      SB Jakati|            4|\n|      SR Watson|            4|\n+---------------+-------------+\nonly showing top 20 rows\n\n"
     ]
    }
   ],
   "source": [
    "# MOST WICKET TAKEN BY ANY BOWLER IN A SINGLE MATCH\n",
    "\n",
    "most_wickets_single_match = spark.sql(\"\"\"\n",
    "SELECT \n",
    "    p.player_name, \n",
    "    COUNT(*) AS total_wickets\n",
    "FROM \n",
    "    ball_by_ball bbb\n",
    "JOIN \n",
    "    player p \n",
    "ON \n",
    "    bbb.bowler = p.player_id\n",
    "JOIN \n",
    "    match m \n",
    "ON \n",
    "    bbb.match_id = m.match_id\n",
    "WHERE \n",
    "    bbb.out_type IN ('caught', 'bowled', 'lbw', 'stumped', 'caught and bowled', 'hit wicket')\n",
    "GROUP BY \n",
    "    p.player_name, m.match_id\n",
    "ORDER BY \n",
    "    total_wickets DESC\n",
    "\"\"\")\n",
    "most_wickets_single_match.show(20)"
   ]
  },
  {
   "cell_type": "code",
   "execution_count": 0,
   "metadata": {
    "application/vnd.databricks.v1+cell": {
     "cellMetadata": {
      "byteLimit": 2048000,
      "rowLimit": 10000
     },
     "inputWidgets": {},
     "nuid": "f6c96fdb-da70-4b52-84f8-d5285f2bacf5",
     "showTitle": false,
     "title": ""
    }
   },
   "outputs": [
    {
     "output_type": "stream",
     "name": "stdout",
     "output_type": "stream",
     "text": [
      "+-----------+--------------------+----------+\n|season_year|           team_name|total_runs|\n+-----------+--------------------+----------+\n|       2008|    Rajasthan Royals|    2399.0|\n|       2008| Chennai Super Kings|    2339.0|\n|       2008|     Kings XI Punjab|    2334.0|\n|       2008|     Deccan Chargers|    2095.0|\n|       2008|    Delhi Daredevils|    1988.0|\n|       2008|      Mumbai Indians|    1873.0|\n|       2008|Royal Challengers...|    1858.0|\n|       2008|Kolkata Knight Ri...|    1793.0|\n|       2009|     Deccan Chargers|    2265.0|\n|       2009| Chennai Super Kings|    2155.0|\n|       2009|Royal Challengers...|    2150.0|\n|       2009|    Delhi Daredevils|    2006.0|\n|       2009|      Mumbai Indians|    1792.0|\n|       2009|     Kings XI Punjab|    1763.0|\n|       2009|Kolkata Knight Ri...|    1622.0|\n|       2009|    Rajasthan Royals|    1528.0|\n|       2010|      Mumbai Indians|    2579.0|\n|       2010| Chennai Super Kings|    2432.0|\n|       2010|Royal Challengers...|    2264.0|\n|       2010|     Deccan Chargers|    2237.0|\n+-----------+--------------------+----------+\nonly showing top 20 rows\n\n"
     ]
    }
   ],
   "source": [
    "# TOP SCORING TEAMS PER SEASON \n",
    "\n",
    "top_scoring_team_each_season = spark.sql(\"\"\"\n",
    "SELECT \n",
    "    m.season_year,\n",
    "    t.team_name AS team_name,\n",
    "    SUM(bbb.runs_scored) AS total_runs\n",
    "FROM \n",
    "    ball_by_ball bbb\n",
    "JOIN \n",
    "    match m \n",
    "ON \n",
    "    bbb.match_id = m.match_id\n",
    "JOIN \n",
    "    team t\n",
    "ON\n",
    "    bbb.team_batting = t.team_id\n",
    "GROUP BY \n",
    "    m.season_year, t.team_name\n",
    "ORDER BY \n",
    "    m.season_year, total_runs DESC\n",
    "\"\"\")\n",
    "top_scoring_team_each_season.show()\n"
   ]
  },
  {
   "cell_type": "code",
   "execution_count": 0,
   "metadata": {
    "application/vnd.databricks.v1+cell": {
     "cellMetadata": {},
     "inputWidgets": {},
     "nuid": "a2027bf3-8a0f-41ef-aaab-4364ae0b501d",
     "showTitle": false,
     "title": ""
    }
   },
   "outputs": [],
   "source": []
  }
 ],
 "metadata": {
  "application/vnd.databricks.v1+notebook": {
   "dashboards": [],
   "environmentMetadata": null,
   "language": "python",
   "notebookMetadata": {
    "pythonIndentUnit": 4
   },
   "notebookName": "IPL_DATA_ANALYSIS_PROJECT",
   "widgets": {}
  }
 },
 "nbformat": 4,
 "nbformat_minor": 0
}
